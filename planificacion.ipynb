{
 "cells": [
  {
   "cell_type": "markdown",
   "metadata": {},
   "source": [
    "____\n",
    "__Universidad Tecnológica Nacional, Buenos Aires__\\\n",
    "__Ingeniería Industrial__\\\n",
    "__Autor: Rodrigo Maranzana__\\\n",
    "__Cátedra de Investigación Operativa - Curso I4051 - Turno Miércoles Noche - Docente: Martín Palazzo__\n",
    "____"
   ]
  },
  {
   "cell_type": "markdown",
   "metadata": {},
   "source": [
    "# Ejemplo de planificación de la producción"
   ]
  },
  {
   "cell_type": "markdown",
   "metadata": {},
   "source": [
    "## Introducción\n",
    "Se busca optimizar el plan de producción para el año siguiente. Desde el sector comercial se proveen las proyecciones de demanda mensual. \n",
    "\n",
    "Por otro lado, el departamento de Ingeniería de planta nos provee todos los parámetros correspondientes a la capacidad instalada. Nos informan, además, que en Diciembre se realiza el mantenimiento preventivo y no podrá producirse.\n",
    "\n",
    "Ingeniería de procesos cuenta con información sobre la cadencia media de los empleados. \n",
    "\n",
    "Por último, desde el sector de RRHH nos envían información sobre el personal, suspensiones, costos asociados y nuevas reglamentaciones como la imposibilidad de despedir empleados."
   ]
  },
  {
   "cell_type": "markdown",
   "metadata": {},
   "source": [
    "## Descripción del modelo\n",
    "\n",
    "Se trabaja con un horizonte temporal de un año divido en meses. El modelo fue simplificado de forma didáctica.\n",
    "\n",
    "Se busca minimizar el funcional de la sumatoria mensual de todos los costos incurridos en el año:\n",
    "$$\n",
    "Min \\ Z = \\sum_t{[cpn*PN_t + cpe*PE_t  + ci*I_t + cdn*DN_t + cds*DS_t + cdc*DC_t + cq*Q_t]} \\\\\n",
    "$$\n",
    "\n",
    "\n",
    "Sujeto a las restricciones:\n",
    "\n",
    "- Balance productivo:\n",
    "$$\n",
    "PN_t + PE_t + I_{t-1} + Q_t = d_t + I_t \\ ; \\ \\forall t \\\\\n",
    "$$\n",
    "\n",
    "- Imposibilidad de producción por mantenimiento preventivo:\n",
    "$$\n",
    "PN_{12}, PE_{12} = 0 \\\\\n",
    "$$\n",
    "\n",
    "- Límites de horas productivas normales y extra:\n",
    "$$\n",
    "\\alpha * PN_t \\leq wnMax * DN_t \\\\\n",
    "\\alpha * PE_t \\leq weMax * DN_t \\\\\n",
    "$$\n",
    "\n",
    "- Balance de personal:\n",
    "$$\n",
    "DN_t + DS_t = DN_{t-1} + DS_{t-1} + DC_t \\ ; \\ \\forall t \\\\\n",
    "$$\n",
    "\n",
    "- Límite máximo de inventario:\n",
    "$$\n",
    "I_t \\leq iMax \\ ; \\ \\forall t \\\\\n",
    "$$\n",
    "\n",
    "- Cotas de personal trabajando:\n",
    "$$\n",
    "dMin \\leq DN_t \\leq dMax \\ ; \\ \\forall t \\\\\n",
    "$$\n",
    "\n",
    "- Positividad:\n",
    "$$\n",
    "PN_t, PE_t, I_t, DN_t, DS_t, DC_t, Q_t \\geq 0\n",
    "$$\n",
    "\n",
    "- Variables enteras:\n",
    "$$\n",
    "DN_t, DS_t, DC_t \\in Z\n",
    "$$\n",
    "\n",
    "Donde las variables: \n",
    "$PN_t$, $PE_t$ son la producción normal y extra del mes $t$; \n",
    "$I_t$ es el nivel de inventario del mes $t$; \n",
    "$DN_t$, $DS_t$ y $DC_t$ es la dotación normal, suspendida y contratada en el mes $t$; \n",
    "$Q_t$ es la cantidad tercerizada en el mes $t$.\n",
    "\n",
    "Y los parámetros:\n",
    "$d_t$ es la cantidad demandada en el mes $t$;\n",
    "$cpn$ y $cpe$, son el costo de producir una unidad en horas normales y extra;\n",
    "$ci$ el costo de mantener inventario;\n",
    "$cdn$, $dcs$ y $cdc$, son el costo por personal trabajando, suspendido y contratado;\n",
    "$cq$, es el costo por tercerizar;\n",
    "$wnMax$ y $weMax$, son la cantidad maxima de horas normales y extra que puede trabajar una persona, por mes;\n",
    "$iMax$, es la cantidad máxima de inventario;\n",
    "$dMin$ y $dMax$, son la dotación trabajando máxima y mínima;"
   ]
  },
  {
   "cell_type": "markdown",
   "metadata": {},
   "source": [
    "## Modelo en PuLP"
   ]
  },
  {
   "cell_type": "code",
   "execution_count": 1,
   "metadata": {},
   "outputs": [],
   "source": [
    "import pulp"
   ]
  },
  {
   "cell_type": "markdown",
   "metadata": {},
   "source": [
    "Creamos un problema lineal (LpProblem) de PuLP. Indicamos que vamos a minimizar el objetivo mediante LpMinimize"
   ]
  },
  {
   "cell_type": "code",
   "execution_count": 2,
   "metadata": {},
   "outputs": [],
   "source": [
    "lp = pulp.LpProblem(\"planificacion\", pulp.LpMinimize)"
   ]
  },
  {
   "cell_type": "markdown",
   "metadata": {},
   "source": [
    "### Sets:\n",
    "Creamos \"Sets\", que son simplemente los índices en los cuales se van a mover las variables. En este caso tenemos un solo set de tiempo con índices mensuales. es decir:\n",
    "$$ t = \\{1, 2, 3, ..., 10, 11, 12\\} $$"
   ]
  },
  {
   "cell_type": "code",
   "execution_count": 3,
   "metadata": {},
   "outputs": [
    {
     "data": {
      "text/plain": [
       "[1, 2, 3, 4, 5, 6, 7, 8, 9, 10, 11, 12]"
      ]
     },
     "execution_count": 3,
     "metadata": {},
     "output_type": "execute_result"
    }
   ],
   "source": [
    "t_set = list(range(1, 13))\n",
    "t_set"
   ]
  },
  {
   "cell_type": "markdown",
   "metadata": {},
   "source": [
    "### Parámetros\n",
    "Ingresamos los parámetros que van a ser constantes o diccionarios de constantes ya definidos o ajustados previamente."
   ]
  },
  {
   "cell_type": "markdown",
   "metadata": {},
   "source": [
    "En primer lugar, definimos la demanda como un diccionario de Python. Cada clave del diccionario corresponde a un mes, y cada valor a la demanda. \n",
    "\n",
    "Usamos este tipo de objeto porque es el que acepta PuLP para poder tener parámetros que dependen de un set. Es decir, si quiero la demanda en el mes 3, simplemente puedo llamar a $d[3]$."
   ]
  },
  {
   "cell_type": "code",
   "execution_count": 4,
   "metadata": {},
   "outputs": [],
   "source": [
    "##### Demanda ######\n",
    "d = {1: 60_000, 2: 50_000, 3: 70_000, 4: 90_000, 5: 380_000, 6: 420_000,\\\n",
    "     7: 120_000, 8: 60_000, 9: 50_000, 10: 35_000, 11: 40_000, 12: 65_000}"
   ]
  },
  {
   "cell_type": "markdown",
   "metadata": {},
   "source": [
    "El resto de los parámetros son constantes y tienen que ver con: las horas de producción, inventarios, costos y dotación del personal."
   ]
  },
  {
   "cell_type": "code",
   "execution_count": 5,
   "metadata": {},
   "outputs": [],
   "source": [
    "##### Horas de producción ###\n",
    "alfa   = 0.04 # Horas invertidas por unidad.\n",
    "w_nmax = 160 # Horas normales que puede trabajar una persona por mes.\n",
    "w_emax = 64 # Horas extras máximas que puede trabajar una persona por mes.\n",
    "\n",
    "##### Inventario #####\n",
    "i_max = 25_000 # Inventario máximo.\n",
    "i_0   = 300 # Inventario mínimo inicial (t=1)\n",
    "\n",
    "##### Costos #####\n",
    "c_pn = 66 # Costo productivo en horas normales.\n",
    "c_pe = 74 # Costo productivo en horas extra.\n",
    "c_q  = 240 # Costo por tercerizar.\n",
    "c_dn = 120 # Costo sueldos normales\n",
    "c_ds = c_dn * 0.6 # costo sueldos suspendidos\n",
    "c_dc = 50 # Costo por contratar\n",
    "c_i  = 10 # Costo por mantenimiento de inventario.\n",
    "\n",
    "#### Dotación #####\n",
    "d_min = 10 # Dotación mínima.\n",
    "d_max = 20 # Dotación máxima.\n",
    "d_0   = 10 # Dotación inicial normal.\n",
    "d_s0  = 0 # Suspendidos inicialmente."
   ]
  },
  {
   "cell_type": "markdown",
   "metadata": {},
   "source": [
    "### Variables\n",
    "Creamos variables usando el método \"LpVariable\" de PuLP. Pero además, las definimos como diccionarios de variables, ya que existirá una por cada índice del set definido arriba, es decir, por cada mes.\n",
    "\n",
    "Por ejemplo, la variable que define la producción del mes 4 puedo llamarla invocando $P[4]$.\n",
    "\n",
    "Las variables continuas que vamos a crear son: Producción normal, producción extra, nivel de inventario y nivel de tercerización. Por otro lado, no podemos escapar a ciertas variables enteras, como son: personal trabajando, personal contratado ese mes y personal suspendido.\n",
    "\n",
    "En este momento, también podemos crear cotas máximas y mínimas para las variables usando los parámetros definidos más arriba. Como la dotación máxima y mínima que puede trabajar. Otra forma de hacer esto, es definirlo como una restricción."
   ]
  },
  {
   "cell_type": "code",
   "execution_count": 6,
   "metadata": {},
   "outputs": [],
   "source": [
    "P_N = pulp.LpVariable.dicts('P_N', t_set, 0, None, cat='Continuous') # Producción normal\n",
    "P_E = pulp.LpVariable.dicts('P_E', t_set, 0, None, cat='Continuous') # Producción extra\n",
    "I   = pulp.LpVariable.dicts('I'  , t_set, 0, i_max, cat='Continuous')  # Inventario\n",
    "Q   = pulp.LpVariable.dicts('Q'  , t_set, 0, None, cat='Continuous')   # Tercerización\n",
    "D_N = pulp.LpVariable.dicts('D_N', t_set, d_min, d_max, cat='Continuous') # Personal trabajando\n",
    "D_C = pulp.LpVariable.dicts('D_C', t_set, 0, None, cat='Integer')  # Personal contratado\n",
    "D_S = pulp.LpVariable.dicts('D_S', t_set, 0, None, cat='Integer')  # Personal suspendido"
   ]
  },
  {
   "cell_type": "markdown",
   "metadata": {},
   "source": [
    "### Función objetivo\n",
    "La función objetivo es una suma de todas las variables en sus índices mensuales. PuLP incorpora el método \"lpSum(<list>)\" para poder sumar variables que fueron definidas como diccionarios.\n",
    "    \n",
    "En primer lugar creamos una lista, en donde cada elemento es el costo total incurrido en un mes $t$. Luego, aplicamos el método \"lpSum\" esa lista y lo sumamos al modelo."
   ]
  },
  {
   "cell_type": "code",
   "execution_count": 7,
   "metadata": {},
   "outputs": [],
   "source": [
    "Z = [c_pn * P_N[t] + c_pe * P_E[t] + c_i * I[t] + c_dc * D_C[t] + \\\n",
    "     c_dn * D_N[t] + c_ds * D_S[t] + c_q * Q[t] for t in t_set]\n",
    "lp += pulp.lpSum(Z), 'Z'"
   ]
  },
  {
   "cell_type": "markdown",
   "metadata": {},
   "source": [
    "### Restricciones\n",
    "\n",
    "Al estar trabajando con un set de meses, existen restricciones que se repiten por cada uno de ellos. Por lo tanto, vamos a tener que iterar la creación de las restricciones y agregar una por cada mes, en el caso que corresponda."
   ]
  },
  {
   "cell_type": "markdown",
   "metadata": {},
   "source": [
    "#### Balance productivo:\n",
    "Es el balance entre la produccion, el inventario y la tercerización del mes siguiente y el anterior. Es decir la suma de estas tres cosas en un mes posterior tiene que dar lo mismo que en un mes anterior.\n",
    "\n",
    "Lo que explicamos anteriormente sobre iterar en restricciones, sucede con esta en particular. Sin embargo, también debemos crear una restricción adicional para el caso del mes 1. Ya que su balance se compensa con lo sobrante del año anterior y la restricción se escribe de forma diferente.\n"
   ]
  },
  {
   "cell_type": "code",
   "execution_count": 8,
   "metadata": {},
   "outputs": [],
   "source": [
    "lp += P_N[1] + P_E[1] + i_0 + Q[1] == d[1] + I[1] # para t='1'\n",
    "\n",
    "for t in t_set[1:]: \n",
    "    lp += P_N[t] + P_E[t] + I[t-1] + Q[t] == d[t] + I[t] # para t=[2,12]"
   ]
  },
  {
   "cell_type": "markdown",
   "metadata": {},
   "source": [
    "#### Restricción de producción en Diciembre:\n",
    "Por mantenimiento preventivo no se puede producir en diciembre:"
   ]
  },
  {
   "cell_type": "code",
   "execution_count": 9,
   "metadata": {},
   "outputs": [],
   "source": [
    "lp += P_N[12] == 0\n",
    "lp += P_E[12] == 0"
   ]
  },
  {
   "cell_type": "markdown",
   "metadata": {},
   "source": [
    "#### Límites de horas productivas:\n",
    "En este caso no vamos a comparar meses, sino establecer una cota máxima de horas de trabajo. Esto está definido únicamente por la cantidad de personal. Cada empleado trabaja la misma cantidad de horas y al mismo ritmo."
   ]
  },
  {
   "cell_type": "code",
   "execution_count": 10,
   "metadata": {},
   "outputs": [],
   "source": [
    "for t in t_set: \n",
    "    lp += alfa * P_N[t] <= D_N[t] * w_nmax\n",
    "for t in t_set: \n",
    "    lp += alfa * P_E[t] <= D_N[t] * w_emax"
   ]
  },
  {
   "cell_type": "markdown",
   "metadata": {},
   "source": [
    "#### Balance de personal:"
   ]
  },
  {
   "cell_type": "markdown",
   "metadata": {},
   "source": [
    "Es el balance de un mes posterior y uno anterior entre el personal trabajando, el personal suspendido y las contrataciones. Para el primer mes, hacemos lo mismo que con el balance de producción, es decir, crear una restricción adicional."
   ]
  },
  {
   "cell_type": "code",
   "execution_count": 11,
   "metadata": {},
   "outputs": [],
   "source": [
    "lp += D_N[1] + D_S[1] == d_0 + d_s0 + D_C[1] # para t='1'\n",
    "for t in t_set[1:]: \n",
    "    lp += D_N[t] + D_S[t] == D_N[t-1] + D_S[t-1] + D_C[t] # para t=[2,12]"
   ]
  },
  {
   "cell_type": "markdown",
   "metadata": {},
   "source": [
    "### Solución"
   ]
  },
  {
   "cell_type": "markdown",
   "metadata": {},
   "source": [
    "Resolvemos el modelo de PuLP usando el método .solve()"
   ]
  },
  {
   "cell_type": "code",
   "execution_count": 12,
   "metadata": {},
   "outputs": [
    {
     "data": {
      "text/plain": [
       "1"
      ]
     },
     "execution_count": 12,
     "metadata": {},
     "output_type": "execute_result"
    }
   ],
   "source": [
    "lp.solve()"
   ]
  },
  {
   "cell_type": "markdown",
   "metadata": {},
   "source": [
    "Imprimimos el status del problema y el valor óptimo de la función objetivo."
   ]
  },
  {
   "cell_type": "code",
   "execution_count": 13,
   "metadata": {},
   "outputs": [
    {
     "name": "stdout",
     "output_type": "stream",
     "text": [
      "Optimal\n",
      "200826404.0\n"
     ]
    }
   ],
   "source": [
    "print(pulp.LpStatus[lp.status])\n",
    "print(pulp.value(lp.objective))"
   ]
  },
  {
   "cell_type": "markdown",
   "metadata": {},
   "source": [
    "Imprimimos el valor de cada variable. Para lograr esto, debemos iterar cada variable en el set de meses."
   ]
  },
  {
   "cell_type": "code",
   "execution_count": 14,
   "metadata": {},
   "outputs": [
    {
     "name": "stdout",
     "output_type": "stream",
     "text": [
      "D_C_1 = 5.00\n",
      "D_C_10 = 0.00\n",
      "D_C_11 = 0.00\n",
      "D_C_12 = 0.00\n",
      "D_C_2 = 0.00\n",
      "D_C_3 = 4.00\n",
      "D_C_4 = 1.00\n",
      "D_C_5 = 0.00\n",
      "D_C_6 = 0.00\n",
      "D_C_7 = 0.00\n",
      "D_C_8 = 0.00\n",
      "D_C_9 = 0.00\n",
      "D_N_1 = 15.00\n",
      "D_N_10 = 10.00\n",
      "D_N_11 = 17.00\n",
      "D_N_12 = 10.00\n",
      "D_N_2 = 13.00\n",
      "D_N_3 = 19.00\n",
      "D_N_4 = 20.00\n",
      "D_N_5 = 20.00\n",
      "D_N_6 = 20.00\n",
      "D_N_7 = 20.00\n",
      "D_N_8 = 15.00\n",
      "D_N_9 = 13.00\n",
      "D_S_1 = 0.00\n",
      "D_S_10 = 10.00\n",
      "D_S_11 = 3.00\n",
      "D_S_12 = 10.00\n",
      "D_S_2 = 2.00\n",
      "D_S_3 = 0.00\n",
      "D_S_4 = 0.00\n",
      "D_S_5 = 0.00\n",
      "D_S_6 = 0.00\n",
      "D_S_7 = 0.00\n",
      "D_S_8 = 5.00\n",
      "D_S_9 = 7.00\n",
      "I_1 = 0.00\n",
      "I_10 = 0.00\n",
      "I_11 = 25000.00\n",
      "I_12 = 0.00\n",
      "I_2 = 0.00\n",
      "I_3 = 3000.00\n",
      "I_4 = 25000.00\n",
      "I_5 = 0.00\n",
      "I_6 = 0.00\n",
      "I_7 = 0.00\n",
      "I_8 = 0.00\n",
      "I_9 = 0.00\n",
      "P_E_1 = 0.00\n",
      "P_E_10 = 0.00\n",
      "P_E_11 = 0.00\n",
      "P_E_12 = 0.00\n",
      "P_E_2 = 0.00\n",
      "P_E_3 = 0.00\n",
      "P_E_4 = 32000.00\n",
      "P_E_5 = 32000.00\n",
      "P_E_6 = 32000.00\n",
      "P_E_7 = 32000.00\n",
      "P_E_8 = 0.00\n",
      "P_E_9 = 0.00\n",
      "P_N_1 = 59700.00\n",
      "P_N_10 = 35000.00\n",
      "P_N_11 = 65000.00\n",
      "P_N_12 = 0.00\n",
      "P_N_2 = 50000.00\n",
      "P_N_3 = 73000.00\n",
      "P_N_4 = 80000.00\n",
      "P_N_5 = 80000.00\n",
      "P_N_6 = 80000.00\n",
      "P_N_7 = 80000.00\n",
      "P_N_8 = 60000.00\n",
      "P_N_9 = 50000.00\n",
      "Q_1 = 0.00\n",
      "Q_10 = 0.00\n",
      "Q_11 = 0.00\n",
      "Q_12 = 40000.00\n",
      "Q_2 = 0.00\n",
      "Q_3 = 0.00\n",
      "Q_4 = 0.00\n",
      "Q_5 = 243000.00\n",
      "Q_6 = 308000.00\n",
      "Q_7 = 8000.00\n",
      "Q_8 = 0.00\n",
      "Q_9 = 0.00\n"
     ]
    }
   ],
   "source": [
    "for variable in lp.variables():\n",
    "    print(f\"{variable.name:s} = {variable.varValue:.2f}\")"
   ]
  },
  {
   "cell_type": "markdown",
   "metadata": {},
   "source": [
    "## Resultados gráficos"
   ]
  },
  {
   "cell_type": "code",
   "execution_count": 15,
   "metadata": {},
   "outputs": [],
   "source": [
    "import matplotlib.pyplot as plt; plt.rcdefaults()\n",
    "import numpy as np\n",
    "import matplotlib.pyplot as plt"
   ]
  },
  {
   "cell_type": "markdown",
   "metadata": {},
   "source": [
    "Creamos listas con los valores mensuales de las variables para poder hacer plots de MatPlotLib."
   ]
  },
  {
   "cell_type": "code",
   "execution_count": 16,
   "metadata": {},
   "outputs": [],
   "source": [
    "result_P = [pn.varValue + pe.varValue for pn, pe in zip(P_N.values(), P_E.values())]\n",
    "result_PE = [pe.varValue for pe in P_E.values()]\n",
    "result_I = [i.varValue for i in I.values()]\n",
    "result_Q = [q.varValue for q in Q.values()]\n",
    "result_D = [dotn.varValue + dots.varValue for dotn, dots in zip(D_N.values(), D_S.values())]\n",
    "result_DS = [dot.varValue for dot in D_S.values()]"
   ]
  },
  {
   "cell_type": "markdown",
   "metadata": {},
   "source": [
    "### Nivel de producción mensual"
   ]
  },
  {
   "cell_type": "code",
   "execution_count": 17,
   "metadata": {},
   "outputs": [
    {
     "data": {
      "image/png": "[encoded data removed]",
      "text/plain": [
       "<Figure size 432x288 with 1 Axes>"
      ]
     },
     "metadata": {
      "needs_background": "light"
     },
     "output_type": "display_data"
    }
   ],
   "source": [
    "p_chart = plt.bar(t_set, result_P, 0.35)\n",
    "pe_chart = plt.bar(t_set, result_PE, 0.35)\n",
    "plt.ylabel('Producción')\n",
    "plt.title('Producción normal y extra')\n",
    "plt.legend((p_chart[0], pe_chart[0]), ('Normal', 'Extra'))\n",
    "plt.xticks(range(1,13))\n",
    "plt.show()"
   ]
  },
  {
   "cell_type": "markdown",
   "metadata": {},
   "source": [
    "### Nivel de inventario"
   ]
  },
  {
   "cell_type": "code",
   "execution_count": 18,
   "metadata": {},
   "outputs": [
    {
     "data": {
      "image/png": "[encoded data removed]",
      "text/plain": [
       "<Figure size 432x288 with 1 Axes>"
      ]
     },
     "metadata": {
      "needs_background": "light"
     },
     "output_type": "display_data"
    }
   ],
   "source": [
    "plt.bar(t_set, result_I, align='center', alpha=0.5)\n",
    "plt.xlabel('%s' % t)\n",
    "plt.ylabel('%s' % 'Inventario')\n",
    "plt.title('%s' % 'Inventario')\n",
    "plt.xticks(range(1,13))\n",
    "plt.show()"
   ]
  },
  {
   "cell_type": "markdown",
   "metadata": {},
   "source": [
    "### Nivel de tercerización"
   ]
  },
  {
   "cell_type": "code",
   "execution_count": 19,
   "metadata": {},
   "outputs": [
    {
     "data": {
      "image/png": "[encoded data removed]",
      "text/plain": [
       "<Figure size 432x288 with 1 Axes>"
      ]
     },
     "metadata": {
      "needs_background": "light"
     },
     "output_type": "display_data"
    }
   ],
   "source": [
    "plt.bar(t_set, result_Q, align='center', alpha=0.5)\n",
    "plt.xlabel('%s' % t)\n",
    "plt.ylabel('%s' % 'Tercerización')\n",
    "plt.title('%s' % 'Tercerización')\n",
    "plt.xticks(range(1,13))\n",
    "plt.show()"
   ]
  },
  {
   "cell_type": "markdown",
   "metadata": {},
   "source": [
    "### Personal"
   ]
  },
  {
   "cell_type": "code",
   "execution_count": 20,
   "metadata": {},
   "outputs": [
    {
     "data": {
      "image/png": "[encoded data removed]",
      "text/plain": [
       "<Figure size 432x288 with 1 Axes>"
      ]
     },
     "metadata": {
      "needs_background": "light"
     },
     "output_type": "display_data"
    }
   ],
   "source": [
    "d_chart = plt.bar(t_set, result_D, 0.35, zorder=1)\n",
    "ds_chart = plt.bar(t_set, result_DS, 0.35, zorder=2)\n",
    "plt.ylabel('Personal')\n",
    "plt.title('Personal normal y suspendidos')\n",
    "plt.legend((d_chart[0], ds_chart[0]), ('Normal', 'Suspendido'), loc=\"lower center\")\n",
    "plt.xticks(range(1,13))\n",
    "plt.show()"
   ]
  },
  {
   "cell_type": "code",
   "execution_count": null,
   "metadata": {},
   "outputs": [],
   "source": []
  }
 ],
 "metadata": {
  "kernelspec": {
   "display_name": "Python 3",
   "language": "python",
   "name": "python3"
  },
  "language_info": {
   "codemirror_mode": {
    "name": "ipython",
    "version": 3
   },
   "file_extension": ".py",
   "mimetype": "text/x-python",
   "name": "python",
   "nbconvert_exporter": "python",
   "pygments_lexer": "ipython3",
   "version": "3.6.1"
  },
  "toc": {
   "base_numbering": 1,
   "nav_menu": {},
   "number_sections": true,
   "sideBar": true,
   "skip_h1_title": true,
   "title_cell": "Table of Contents",
   "title_sidebar": "Contents",
   "toc_cell": false,
   "toc_position": {},
   "toc_section_display": true,
   "toc_window_display": false
  },
  "varInspector": {
   "cols": {
    "lenName": 16,
    "lenType": 16,
    "lenVar": 40
   },
   "kernels_config": {
    "python": {
     "delete_cmd_postfix": "",
     "delete_cmd_prefix": "del ",
     "library": "var_list.py",
     "varRefreshCmd": "print(var_dic_list())"
    },
    "r": {
     "delete_cmd_postfix": ") ",
     "delete_cmd_prefix": "rm(",
     "library": "var_list.r",
     "varRefreshCmd": "cat(var_dic_list()) "
    }
   },
   "types_to_exclude": [
    "module",
    "function",
    "builtin_function_or_method",
    "instance",
    "_Feature"
   ],
   "window_display": false
  }
 },
 "nbformat": 4,
 "nbformat_minor": 2
}
